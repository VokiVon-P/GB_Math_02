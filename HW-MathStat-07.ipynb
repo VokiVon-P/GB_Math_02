{
 "cells": [
  {
   "cell_type": "code",
   "execution_count": 1,
   "metadata": {},
   "outputs": [],
   "source": [
    "import numpy as np\n",
    "from scipy.stats import norm\n",
    "import matplotlib.pyplot as plt"
   ]
  },
  {
   "cell_type": "markdown",
   "metadata": {},
   "source": [
    "### Задача 1\n",
    "Даны значения величины заработной платы заемщиков банка (zp) и значения их поведенческого кредитного скоринга (ks): zp = [35, 45, 190, 200, 40, 70, 54, 150, 120, 110], ks = [401, 574, 874, 919, 459, 739, 653, 902, 746, 832]. Используя математические операции, посчитать коэффициенты линейной регрессии, приняв за X заработную плату (то есть, zp - признак), а за y - значения скорингового балла (то есть, ks - целевая переменная). Произвести расчет как с использованием intercept, так и без."
   ]
  },
  {
   "cell_type": "code",
   "execution_count": 2,
   "metadata": {},
   "outputs": [
    {
     "data": {
      "text/plain": [
       "10"
      ]
     },
     "execution_count": 2,
     "metadata": {},
     "output_type": "execute_result"
    }
   ],
   "source": [
    "zp = np.array([35, 45, 190, 200, 40, 70, 54, 150, 120, 110] )\n",
    "ks  = np.array([401, 574, 874, 919, 459, 739, 653, 902, 746, 832])\n",
    "x = zp\n",
    "y = ks\n",
    "n = x.size\n",
    "n"
   ]
  },
  {
   "cell_type": "code",
   "execution_count": 3,
   "metadata": {},
   "outputs": [
    {
     "data": {
      "text/plain": [
       "2.620538882402765"
      ]
     },
     "execution_count": 3,
     "metadata": {},
     "output_type": "execute_result"
    }
   ],
   "source": [
    "b = (np.mean(x * y) - np.mean(x) * np.mean(y)) / (np.mean(x**2) - np.mean(x) ** 2)\n",
    "b"
   ]
  },
  {
   "cell_type": "code",
   "execution_count": 4,
   "metadata": {},
   "outputs": [],
   "source": [
    "def estimate(x, y):\n",
    "    y_av = y.mean() \n",
    "    x_av = x.mean()\n",
    "    \n",
    "    b1 = ((x - x_av) * (y - y_av )).sum() / ((x - x_av) ** 2).sum()\n",
    "    b0 = y_av - b1 * x_av \n",
    "    \n",
    "    return b0, b1\n",
    "\n",
    "def predict_estimated(x, b0, b1):\n",
    "    return b0 + x * b1"
   ]
  },
  {
   "cell_type": "code",
   "execution_count": 5,
   "metadata": {},
   "outputs": [
    {
     "name": "stdout",
     "output_type": "stream",
     "text": [
      "Коэффициет b0 = 444.17735732435955 и b1 = 2.6205388824027653 \n"
     ]
    }
   ],
   "source": [
    "\n",
    "b0, b1 = estimate(x, y)\n",
    "print(f\"Коэффициет b0 = {b0} и b1 = {b1} \")"
   ]
  },
  {
   "cell_type": "code",
   "execution_count": null,
   "metadata": {},
   "outputs": [],
   "source": []
  },
  {
   "cell_type": "markdown",
   "metadata": {},
   "source": [
    "**2 способ расчета**"
   ]
  },
  {
   "cell_type": "code",
   "execution_count": 6,
   "metadata": {},
   "outputs": [],
   "source": [
    "def matrix_estimated(x, y):\n",
    "    return np.dot(np.linalg.inv(np.dot(x.T, x)), x.T @ y)\n",
    "\n"
   ]
  },
  {
   "cell_type": "code",
   "execution_count": 7,
   "metadata": {},
   "outputs": [
    {
     "data": {
      "text/plain": [
       "array([[  1.,  35.],\n",
       "       [  1.,  45.],\n",
       "       [  1., 190.],\n",
       "       [  1., 200.],\n",
       "       [  1.,  40.],\n",
       "       [  1.,  70.],\n",
       "       [  1.,  54.],\n",
       "       [  1., 150.],\n",
       "       [  1., 120.],\n",
       "       [  1., 110.]])"
      ]
     },
     "execution_count": 7,
     "metadata": {},
     "output_type": "execute_result"
    }
   ],
   "source": [
    "X = x.reshape((n,1))\n",
    "Y_ = y.reshape((n,1))\n",
    "X_ = np.hstack([np.ones((n,1)), X])\n",
    "X_"
   ]
  },
  {
   "cell_type": "markdown",
   "metadata": {},
   "source": [
    "так же с интерсептом"
   ]
  },
  {
   "cell_type": "code",
   "execution_count": 8,
   "metadata": {},
   "outputs": [
    {
     "data": {
      "text/plain": [
       "array([[444.17735732],\n",
       "       [  2.62053888]])"
      ]
     },
     "execution_count": 8,
     "metadata": {},
     "output_type": "execute_result"
    }
   ],
   "source": [
    "matrix_estimated(X_, Y_)"
   ]
  },
  {
   "cell_type": "markdown",
   "metadata": {},
   "source": [
    "**без интерсепта**"
   ]
  },
  {
   "cell_type": "code",
   "execution_count": 9,
   "metadata": {},
   "outputs": [
    {
     "data": {
      "text/plain": [
       "array([[5.88982042]])"
      ]
     },
     "execution_count": 9,
     "metadata": {},
     "output_type": "execute_result"
    }
   ],
   "source": [
    "b2 = matrix_estimated(X, Y_)\n",
    "b2\n"
   ]
  },
  {
   "cell_type": "code",
   "execution_count": 20,
   "metadata": {},
   "outputs": [
    {
     "data": {
      "text/plain": [
       "<matplotlib.legend.Legend at 0x23633d8d7f0>"
      ]
     },
     "execution_count": 20,
     "metadata": {},
     "output_type": "execute_result"
    },
    {
     "data": {
      "image/png": "[encoded data removed]",
      "text/plain": [
       "<Figure size 432x288 with 1 Axes>"
      ]
     },
     "metadata": {
      "needs_background": "light"
     },
     "output_type": "display_data"
    }
   ],
   "source": [
    "plt.scatter(x, y)\n",
    "plt.title(\"Regression\")\n",
    "plt.xlabel(\"x (feature)\")\n",
    "plt.ylabel(\"y (target)\")\n",
    "plt.plot(x, predict_estimated(x, b0, b1), color='red', label='prediction estimated')\n",
    "plt.plot(x, x*b2[0], color='green', label='prediction no intersept')\n",
    "plt.legend()"
   ]
  },
  {
   "cell_type": "markdown",
   "metadata": {},
   "source": [
    "### Задача 2\n",
    "Посчитать коэффициент линейной регрессии при заработной плате (zp), используя градиентный спуск (без intercept)"
   ]
  },
  {
   "cell_type": "code",
   "execution_count": 11,
   "metadata": {},
   "outputs": [
    {
     "data": {
      "text/plain": [
       "10"
      ]
     },
     "execution_count": 11,
     "metadata": {},
     "output_type": "execute_result"
    }
   ],
   "source": [
    "x = zp\n",
    "y = ks\n",
    "n"
   ]
  },
  {
   "cell_type": "code",
   "execution_count": 12,
   "metadata": {},
   "outputs": [],
   "source": [
    "def mse_(B1, y=y, x=x, n=n):\n",
    "    return np.sum((B1*x - y)**2)/n"
   ]
  },
  {
   "cell_type": "code",
   "execution_count": 13,
   "metadata": {},
   "outputs": [
    {
     "data": {
      "text/plain": [
       "56516.8584157194"
      ]
     },
     "execution_count": 13,
     "metadata": {},
     "output_type": "execute_result"
    }
   ],
   "source": [
    "mse_(b2[0])"
   ]
  },
  {
   "cell_type": "code",
   "execution_count": 19,
   "metadata": {},
   "outputs": [
    {
     "name": "stdout",
     "output_type": "stream",
     "text": [
      "Iteration:  0, B1 = 0.25952808, MSE = 493237.7212546963\n",
      "Iteration:  100, B1 = 5.54537842245223, MSE = 58151.31823171113\n",
      "Iteration:  200, B1 = 5.868748638669329, MSE = 56522.97550129376\n",
      "Iteration:  300, B1 = 5.888531320728348, MSE = 56516.88130936019\n",
      "Iteration:  400, B1 = 5.8897415574471985, MSE = 56516.85850140053\n",
      "Iteration:  500, B1 = 5.889815595583751, MSE = 56516.858416040064\n",
      "Iteration:  600, B1 = 5.889820124983314, MSE = 56516.85841572062\n",
      "Iteration:  700, B1 = 5.889820402076462, MSE = 56516.85841571941\n",
      "Iteration:  800, B1 = 5.88982041902807, MSE = 56516.8584157194\n",
      "Iteration:  900, B1 = 5.889820420065112, MSE = 56516.85841571941\n",
      "Iteration:  1000, B1 = 5.8898204201285544, MSE = 56516.85841571941\n",
      "Iteration:  1100, B1 = 5.889820420132437, MSE = 56516.85841571943\n"
     ]
    }
   ],
   "source": [
    "B1 = 0.1\n",
    "alpha = 1e-6\n",
    "for i in range(10000):\n",
    "    b_=B1\n",
    "    B1 -= alpha*(2/n)*np.sum((B1*x-y)*x)\n",
    "    \n",
    "    if i%100==0:\n",
    "        print(f\"Iteration:  {i}, B1 = {B1}, MSE = {mse_(B1)}\")\n",
    "        \n",
    "    if (b_== B1):\n",
    "          break\n",
    "   "
   ]
  },
  {
   "cell_type": "markdown",
   "metadata": {},
   "source": [
    "### Задача 3\n",
    "В каких случаях для вычисления доверительных интервалов и проверки статистических гипотез используется таблица значений функции Лапласа, а в каких - таблица критических точек распределения Стьюдента?"
   ]
  },
  {
   "cell_type": "markdown",
   "metadata": {},
   "source": [
    "Если **известна** дисперсия генеральной совокупности то используем таблицу **Лапласа**\n",
    "\n",
    "Если дисперсия генеральной совокупности **неизвестна** - то тогда используем таблицу **Стьюдента**\n",
    "    \n"
   ]
  },
  {
   "cell_type": "markdown",
   "metadata": {},
   "source": [
    "### Задача 4\n",
    "Сорри, на 4 задачу сил и времени уже не хватило (("
   ]
  },
  {
   "cell_type": "code",
   "execution_count": null,
   "metadata": {},
   "outputs": [],
   "source": []
  }
 ],
 "metadata": {
  "kernelspec": {
   "display_name": "Python 3",
   "language": "python",
   "name": "python3"
  },
  "language_info": {
   "codemirror_mode": {
    "name": "ipython",
    "version": 3
   },
   "file_extension": ".py",
   "mimetype": "text/x-python",
   "name": "python",
   "nbconvert_exporter": "python",
   "pygments_lexer": "ipython3",
   "version": "3.7.1"
  }
 },
 "nbformat": 4,
 "nbformat_minor": 2
}
