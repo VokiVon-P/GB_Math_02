{
 "cells": [
  {
   "cell_type": "code",
   "execution_count": 2,
   "metadata": {},
   "outputs": [],
   "source": [
    "import numpy as np\n",
    "from scipy.stats import norm"
   ]
  },
  {
   "cell_type": "code",
   "execution_count": null,
   "metadata": {},
   "outputs": [],
   "source": []
  },
  {
   "cell_type": "markdown",
   "metadata": {},
   "source": [
    "### Задача 1\n",
    "Даны значения величины заработной платы заемщиков банка (zp) и значения их поведенческого кредитного скоринга (ks):\n",
    "zp = [35, 45, 190, 200, 40, 70, 54, 150, 120, 110],\n",
    "ks = [401, 574, 874, 919, 459, 739, 653, 902, 746, 832].\n",
    "Найдите ковариацию этих двух величин с помощью элементарных действий, а затем с помощью функции cov из numpy\n",
    "Полученные значения должны быть равны.\n",
    "Найдите коэффициент корреляции Пирсона с помощью ковариации и среднеквадратичных отклонений двух признаков,\n",
    "а затем с использованием функций из библиотек numpy и pandas."
   ]
  },
  {
   "cell_type": "code",
   "execution_count": 8,
   "metadata": {},
   "outputs": [
    {
     "name": "stdout",
     "output_type": "stream",
     "text": [
      "Ковариация  = 9157.839999999997\n",
      "Коэффициент корреляции Пирсона  = 0.8874900920739158\n"
     ]
    }
   ],
   "source": [
    "zp = np.array([35, 45, 190, 200, 40, 70, 54, 150, 120, 110])\n",
    "ks = np.array([401, 574, 874, 919, 459, 739, 653, 902, 746, 832])\n",
    "\n",
    "cov = (zp*ks).mean() - zp.mean()*ks.mean()\n",
    "\n",
    "sigma_zp = zp.std()\n",
    "sigma_ks = ks.std()\n",
    "\n",
    "r_corr = cov/(sigma_zp*sigma_ks)\n",
    "\n",
    "print(f\"Ковариация  = {cov}\")\n",
    "print(f\"Коэффициент корреляции Пирсона  = {r_corr}\")\n"
   ]
  },
  {
   "cell_type": "code",
   "execution_count": 15,
   "metadata": {},
   "outputs": [
    {
     "name": "stdout",
     "output_type": "stream",
     "text": [
      " Проверка: \n",
      " Ковариация:\n",
      " [[ 3494.64  9157.84]\n",
      " [ 9157.84 30468.89]]\n",
      "Коэффициент корреляции Пирсона:\n",
      "[[1.         0.88749009]\n",
      " [0.88749009 1.        ]]\n"
     ]
    }
   ],
   "source": [
    "print(f\" Проверка: \")\n",
    "print(f\" Ковариация:\\n\", np.cov(zp, ks, ddof=0))\n",
    "print(f\"Коэффициент корреляции Пирсона:\\n{np.corrcoef(zp, ks)}\")\n",
    "\n",
    "\n"
   ]
  },
  {
   "cell_type": "markdown",
   "metadata": {},
   "source": [
    "### Задача 2\n",
    "Измерены значения IQ выборки студентов,\n",
    "обучающихся в местных технических вузах:\n",
    "131, 125, 115, 122, 131, 115, 107, 99, 125, 111.\n",
    "Известно, что в генеральной совокупности IQ распределен нормально.\n",
    "Найдите доверительный интервал для математического ожидания с надежностью 0.95."
   ]
  },
  {
   "cell_type": "code",
   "execution_count": 16,
   "metadata": {},
   "outputs": [],
   "source": [
    "arr_ = np.array([131, 125, 115, 122, 131, 115, 107, 99, 125, 111])\n",
    "n = arr_.size\n",
    "M = arr_.mean()\n",
    "sigma = arr_.std(ddof=1)"
   ]
  },
  {
   "cell_type": "code",
   "execution_count": 18,
   "metadata": {},
   "outputs": [
    {
     "name": "stdout",
     "output_type": "stream",
     "text": [
      "Половина уровня значимости = 0.025000000000000022\n",
      " Z(a/2)= 2.262\n"
     ]
    }
   ],
   "source": [
    "a = 1-0.95\n",
    "# тк симмертричная то\n",
    "a_2 = a/2\n",
    "print(f\"Половина уровня значимости = {a_2}\")\n",
    "# т.к. мы не знаем дисперсию генеральной совокупности, то возьмем значение Z2 из таблицы Стьюдента\n",
    "# число степение свобобы = n - 1 = 9 при доверительной вероятности 97,5% или 0,025\n",
    "# из таблицы z2 = 2,262\n",
    "z_2 = 2.262\n",
    "print(f\" Z(a/2)= {z_2}\")"
   ]
  },
  {
   "cell_type": "code",
   "execution_count": 20,
   "metadata": {},
   "outputs": [
    {
     "name": "stdout",
     "output_type": "stream",
     "text": [
      " Доверительный диапазон для математического ожидания X= [110.55660776308164; 125.64339223691834]\n"
     ]
    }
   ],
   "source": [
    "delta = (z_2 * sigma / np.sqrt(n))\n",
    "left = M - delta \n",
    "right = M + delta\n",
    "print(f\" Доверительный диапазон для математического ожидания X= [{left}; {right}]\")"
   ]
  },
  {
   "cell_type": "markdown",
   "metadata": {},
   "source": [
    "### Задача 3\n",
    "Известно, что рост футболистов в сборной распределен нормально\n",
    "с дисперсией генеральной совокупности, равной 25 кв.см. Объем выборки равен 27,\n",
    "среднее выборочное составляет 174.2. Найдите доверительный интервал для математического\n",
    "ожидания с надежностью 0.95."
   ]
  },
  {
   "cell_type": "code",
   "execution_count": 4,
   "metadata": {},
   "outputs": [
    {
     "name": "stdout",
     "output_type": "stream",
     "text": [
      "Половина уровня значимости = 0.025000000000000022\n",
      " Z(a/2)= -1.959963984540054\n",
      " Доверительный диапазон = [172.3140237765397; 176.08597622346028]\n"
     ]
    }
   ],
   "source": [
    "sigma = np.sqrt(25)\n",
    "M = 174.2\n",
    "n= 27\n",
    "a = 1-0.95\n",
    "# тк симмертричная то\n",
    "a_2 = a/2\n",
    "print(f\"Половина уровня значимости = {a_2}\")\n",
    "z_2 = norm.ppf(a_2)\n",
    "print(f\" Z(a/2)= {z_2}\")\n",
    "delta = (z_2 * sigma / np.sqrt(n))\n",
    "left = M + delta \n",
    "right = M - delta\n",
    "print(f\" Доверительный диапазон = [{left}; {right}]\")\n",
    "    "
   ]
  },
  {
   "cell_type": "markdown",
   "metadata": {},
   "source": [
    "### Задача 4\n",
    "Пока не придумал что то интересное. Да и со временем совсем плохо. Поспать бы...\n",
    "может быть чуть позже, на выходных что то придумаю."
   ]
  }
 ],
 "metadata": {
  "kernelspec": {
   "display_name": "Python 3",
   "language": "python",
   "name": "python3"
  },
  "language_info": {
   "codemirror_mode": {
    "name": "ipython",
    "version": 3
   },
   "file_extension": ".py",
   "mimetype": "text/x-python",
   "name": "python",
   "nbconvert_exporter": "python",
   "pygments_lexer": "ipython3",
   "version": "3.7.1"
  }
 },
 "nbformat": 4,
 "nbformat_minor": 2
}
