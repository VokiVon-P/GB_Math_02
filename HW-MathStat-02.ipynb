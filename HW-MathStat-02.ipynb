{
 "cells": [
  {
   "cell_type": "code",
   "execution_count": 1,
   "metadata": {},
   "outputs": [],
   "source": [
    "import numpy as np\n",
    "from math import factorial\n",
    "\n",
    "# сачетание \n",
    "def combinations(n:int, k:int)->int:\n",
    "    return int(factorial(n) / (factorial(k) * factorial(n - k)))\n",
    "\n",
    "def form_bernuli(p:float, n:int, k:int)->float:\n",
    "    return float(combinations(n, k)*(p**k)*((1-p)**(n-k)))"
   ]
  },
  {
   "cell_type": "code",
   "execution_count": 2,
   "metadata": {},
   "outputs": [
    {
     "data": {
      "text/plain": [
       "0.125"
      ]
     },
     "execution_count": 2,
     "metadata": {},
     "output_type": "execute_result"
    }
   ],
   "source": [
    "a = form_bernuli(0.5, 3, 3)\n",
    "a"
   ]
  },
  {
   "cell_type": "markdown",
   "metadata": {},
   "source": [
    "### Задача 1\n",
    "Вероятность того, что стрелок попадет в мишень, выстрелив один раз, равна 0.8. Стрелок выстрелил 100 раз. Найдите вероятность того, что стрелок попадет в цель ровно 85 раз."
   ]
  },
  {
   "cell_type": "code",
   "execution_count": 3,
   "metadata": {},
   "outputs": [
    {
     "name": "stdout",
     "output_type": "stream",
     "text": [
      "Вероятность попадания в мишень 85 раз из 100 выстрелов = 0.048061793700746355\n"
     ]
    }
   ],
   "source": [
    "p1 = form_bernuli(0.8, 100, 85)\n",
    "print(f\"Вероятность попадания в мишень 85 раз из 100 выстрелов = {p1}\")"
   ]
  },
  {
   "cell_type": "markdown",
   "metadata": {},
   "source": [
    "### Задача 2\n",
    "Вероятность того, что лампочка перегорит в течение первого дня эксплуатации, равна 0.0004. В жилом комплексе после ремонта в один день включили 5000 новых лампочек. Какова вероятность, что ни одна из них не перегорит в первый день? Какова вероятность, что перегорят ровно две?"
   ]
  },
  {
   "cell_type": "code",
   "execution_count": 4,
   "metadata": {},
   "outputs": [
    {
     "name": "stdout",
     "output_type": "stream",
     "text": [
      "Вероятность, что ни одна из них не перегорит в первый день = 0.13528114551440706\n"
     ]
    }
   ],
   "source": [
    "p2_1 = form_bernuli(0.0004, 5000, 0)\n",
    "print(f\"Вероятность, что ни одна из них не перегорит в первый день = {p2_1}\")"
   ]
  },
  {
   "cell_type": "code",
   "execution_count": 5,
   "metadata": {},
   "outputs": [
    {
     "name": "stdout",
     "output_type": "stream",
     "text": [
      "Вероятность, что перегорят ровно две = 0.2707247150266753\n"
     ]
    }
   ],
   "source": [
    "p2_2 = form_bernuli(0.0004, 5000, 2)\n",
    "print(f\"Вероятность, что перегорят ровно две = {p2_2}\")"
   ]
  },
  {
   "cell_type": "markdown",
   "metadata": {},
   "source": [
    "### Задача 3\n",
    "Монету подбросили 144 раза. Какова вероятность, что орел выпадет ровно 70 раз?"
   ]
  },
  {
   "cell_type": "markdown",
   "metadata": {},
   "source": [
    "Верояность выпадания орла = 0.5 Следовательно:"
   ]
  },
  {
   "cell_type": "code",
   "execution_count": 6,
   "metadata": {},
   "outputs": [
    {
     "name": "stdout",
     "output_type": "stream",
     "text": [
      "Вероятность, что орел выпадет 70 раз из 144 = 0.06281178035144776\n"
     ]
    }
   ],
   "source": [
    "p3 = form_bernuli(0.5, 144, 70)\n",
    "print(f\"Вероятность, что орел выпадет 70 раз из 144 = {p3}\")"
   ]
  },
  {
   "cell_type": "markdown",
   "metadata": {},
   "source": [
    "### Задача 4\n",
    "В первом ящике находится 10 мячей, из которых 7 - белые. Во втором ящике - 11 мячей, из которых 9 белых. Из каждого ящика вытаскивают случайным образом по два мяча. Какова вероятность того, что все мячи белые? Какова вероятность того, что ровно два мяча белые? Какова вероятность того, что хотя бы один мяч белый?\n"
   ]
  },
  {
   "cell_type": "markdown",
   "metadata": {},
   "source": [
    "Общее кол-во исходов для 2 шаров:\n"
   ]
  },
  {
   "cell_type": "code",
   "execution_count": 7,
   "metadata": {},
   "outputs": [],
   "source": [
    "c_1_all = combinations(10, 2)\n",
    "c_2_all = combinations(11,2)"
   ]
  },
  {
   "cell_type": "markdown",
   "metadata": {},
   "source": [
    "##### Задача 4_1\n",
    "Какова вероятность того, что все мячи белые? "
   ]
  },
  {
   "cell_type": "markdown",
   "metadata": {},
   "source": [
    "Тк события независимые то посчитаем их верояность и перемножим"
   ]
  },
  {
   "cell_type": "code",
   "execution_count": 8,
   "metadata": {},
   "outputs": [
    {
     "data": {
      "text/plain": [
       "0.4666666666666667"
      ]
     },
     "execution_count": 8,
     "metadata": {},
     "output_type": "execute_result"
    }
   ],
   "source": [
    "p_4_1_1 = combinations(7, 2)/c_1_all\n",
    "p_4_1_1"
   ]
  },
  {
   "cell_type": "code",
   "execution_count": 9,
   "metadata": {},
   "outputs": [
    {
     "data": {
      "text/plain": [
       "0.6545454545454545"
      ]
     },
     "execution_count": 9,
     "metadata": {},
     "output_type": "execute_result"
    }
   ],
   "source": [
    "p_4_1_2 = combinations(9, 2)/c_2_all\n",
    "p_4_1_2"
   ]
  },
  {
   "cell_type": "code",
   "execution_count": 10,
   "metadata": {},
   "outputs": [
    {
     "name": "stdout",
     "output_type": "stream",
     "text": [
      "Вероятность того, что все мячи белые = 0.3054545454545455\n"
     ]
    }
   ],
   "source": [
    "p_4_1 = p_4_1_1*p_4_1_2\n",
    "print(f\"Вероятность того, что все мячи белые = {p_4_1}\")"
   ]
  },
  {
   "cell_type": "markdown",
   "metadata": {},
   "source": [
    "##### Задача 4_2\n",
    " Какова вероятность того, что ровно два мяча белые?"
   ]
  },
  {
   "cell_type": "markdown",
   "metadata": {},
   "source": [
    "Теперь нужно сложить предыдущие верояности и добавить вероятность того что в каждой выборке окажется по 1 белому.И разделить это на 3 , т.к может случиться только 1 из 3 вариантов."
   ]
  },
  {
   "cell_type": "code",
   "execution_count": 11,
   "metadata": {},
   "outputs": [],
   "source": [
    "p_4_2_1 = (combinations(7, 1) * combinations(3, 1))/c_1_all \n",
    "\n",
    "p_4_2_2 = (combinations(9, 1) * combinations(2, 1))/c_2_all\n"
   ]
  },
  {
   "cell_type": "markdown",
   "metadata": {},
   "source": [
    "Вероятность что из 2 ящиков вытащили по 1 белому:"
   ]
  },
  {
   "cell_type": "code",
   "execution_count": 12,
   "metadata": {},
   "outputs": [
    {
     "data": {
      "text/plain": [
       "0.15272727272727274"
      ]
     },
     "execution_count": 12,
     "metadata": {},
     "output_type": "execute_result"
    }
   ],
   "source": [
    "p_4_2_3 = p_4_2_1 * p_4_2_2\n",
    "p_4_2_3"
   ]
  },
  {
   "cell_type": "code",
   "execution_count": 13,
   "metadata": {},
   "outputs": [
    {
     "data": {
      "text/plain": [
       "1.273939393939394"
      ]
     },
     "execution_count": 13,
     "metadata": {},
     "output_type": "execute_result"
    }
   ],
   "source": [
    "p_4_sum = p_4_1_1 + p_4_1_2 + p_4_2_3\n",
    "p_4_sum"
   ]
  },
  {
   "cell_type": "code",
   "execution_count": 14,
   "metadata": {},
   "outputs": [
    {
     "name": "stdout",
     "output_type": "stream",
     "text": [
      "Вероятность того, что ровно два мяча белые = 0.42464646464646466\n"
     ]
    }
   ],
   "source": [
    "p_4_2 = p_4_sum/3\n",
    "print(f\"Вероятность того, что ровно два мяча белые = {p_4_2}\")"
   ]
  },
  {
   "cell_type": "markdown",
   "metadata": {},
   "source": [
    "##### Задача 4_3\n",
    "Какова вероятность того, что хотя бы один мяч белый?\n"
   ]
  },
  {
   "cell_type": "markdown",
   "metadata": {},
   "source": [
    "В данном случае это может случиться если произойдет один из случаев:\n",
    "1) 2 белых в первом\n",
    "2) 2 белых во втором\n",
    "3) 1 белый во втором\n",
    "4) 1 белый в первом\n",
    "5) 2 белых в 1 и 2 белых во втором\n",
    "6) 1 белый в 1 и 2 белых во втором\n",
    "7) 2 белых в 1 и 1 во втором\n",
    "8) 1 белый в 1 и 1 белый во втором\n"
   ]
  },
  {
   "cell_type": "code",
   "execution_count": 15,
   "metadata": {},
   "outputs": [],
   "source": [
    "p1 = p_4_1_1\n",
    "p2 = p_4_1_2\n",
    "p3 = p_4_2_2\n",
    "p4 = p_4_2_1\n",
    "p5 = p_4_1\n",
    "p6 = p_4_2_1 * p_4_1_2\n",
    "p7 = p_4_2_2 * p_4_1_1\n",
    "p8 = p_4_2_3"
   ]
  },
  {
   "cell_type": "code",
   "execution_count": 16,
   "metadata": {},
   "outputs": [
    {
     "name": "stdout",
     "output_type": "stream",
     "text": [
      "Вероятность того, что ровно два мяча белые = 0.353939393939394\n"
     ]
    }
   ],
   "source": [
    "p_sum = p1+p2+p3+p4+p5+p6+p7+p8\n",
    "p_4_3 = 1/8*p_sum\n",
    "print(f\"Вероятность того, что ровно два мяча белые = {p_4_3}\")"
   ]
  },
  {
   "cell_type": "code",
   "execution_count": null,
   "metadata": {},
   "outputs": [],
   "source": []
  }
 ],
 "metadata": {
  "kernelspec": {
   "display_name": "Python 3",
   "language": "python",
   "name": "python3"
  },
  "language_info": {
   "codemirror_mode": {
    "name": "ipython",
    "version": 3
   },
   "file_extension": ".py",
   "mimetype": "text/x-python",
   "name": "python",
   "nbconvert_exporter": "python",
   "pygments_lexer": "ipython3",
   "version": "3.7.1"
  }
 },
 "nbformat": 4,
 "nbformat_minor": 2
}
