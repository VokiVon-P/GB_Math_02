{
 "cells": [
  {
   "cell_type": "code",
   "execution_count": 1,
   "metadata": {},
   "outputs": [],
   "source": [
    "import numpy as np\n",
    "from math import factorial\n",
    "\n",
    "# сачетание \n",
    "def combinations(n:int, k:int)->int:\n",
    "    return int(factorial(n) / (factorial(k) * factorial(n - k)))\n",
    "\n",
    "def form_bernuli(p:float, n:int, k:int)->float:\n",
    "    return float(combinations(n, k)*(p**k)*((1-p)**(n-k)))"
   ]
  },
  {
   "cell_type": "code",
   "execution_count": 2,
   "metadata": {},
   "outputs": [
    {
     "data": {
      "text/plain": [
       "0.125"
      ]
     },
     "execution_count": 2,
     "metadata": {},
     "output_type": "execute_result"
    }
   ],
   "source": [
    "a = form_bernuli(0.5, 3, 3)\n",
    "a"
   ]
  },
  {
   "cell_type": "markdown",
   "metadata": {},
   "source": [
    "### Задача 1\n",
    "Даны значения зарплат из выборки выпускников: 100, 80, 75, 77, 89, 33, 45, 25, 65, 17, 30, 24, 57, 55, 70, 75, 65, 84, 90, 150. Посчитать (желательно без использования статистических методов наподобие std, var, mean) среднее арифметическое, среднее квадратичное отклонение, смещенную и несмещенную оценки дисперсий для данной выборки."
   ]
  },
  {
   "cell_type": "code",
   "execution_count": 3,
   "metadata": {},
   "outputs": [
    {
     "data": {
      "text/plain": [
       "array([100,  80,  75,  77,  89,  33,  45,  25,  65,  17,  30,  24,  57,\n",
       "        55,  70,  75,  65,  84,  90, 150])"
      ]
     },
     "execution_count": 3,
     "metadata": {},
     "output_type": "execute_result"
    }
   ],
   "source": [
    "grad_ = np.array([100, 80, 75, 77, 89, 33, 45, 25, 65, 17, 30, 24, 57, 55, 70, 75, 65, 84, 90, 150])\n",
    "grad_"
   ]
  },
  {
   "cell_type": "markdown",
   "metadata": {},
   "source": [
    "Найдем среднее арифметическое или Мат ожидание:\n"
   ]
  },
  {
   "cell_type": "code",
   "execution_count": 4,
   "metadata": {},
   "outputs": [
    {
     "name": "stdout",
     "output_type": "stream",
     "text": [
      "Среднее арифметическое = 65.3\n",
      "Проверка = 65.3\n"
     ]
    }
   ],
   "source": [
    "mean_grad = grad_.sum() / grad_.size\n",
    "print(f\"Среднее арифметическое = {mean_grad}\")\n",
    "print(f\"Проверка = {grad_.mean()}\")"
   ]
  },
  {
   "cell_type": "markdown",
   "metadata": {},
   "source": [
    "Найдем среднее квадратичное отклонение:"
   ]
  },
  {
   "cell_type": "code",
   "execution_count": 5,
   "metadata": {},
   "outputs": [
    {
     "name": "stdout",
     "output_type": "stream",
     "text": [
      "Среднее квадратичное отклонение: 30.823854398825596\n",
      "Проверка = 30.823854398825596\n",
      "\n"
     ]
    }
   ],
   "source": [
    "\n",
    "tmp = ((grad_-grad_.mean())**2).sum()\n",
    "\n",
    "# дисперсия\n",
    "grad_variance = tmp/grad_.size\n",
    "\n",
    "# среднеквадратичное отклонение\n",
    "grad_std = np.sqrt(grad_variance)\n",
    "print(f\"Среднее квадратичное отклонение: {grad_std}\")\n",
    "print(f\"Проверка = {grad_.std(ddof=0)}\")\n",
    "print(f\"\");"
   ]
  },
  {
   "cell_type": "code",
   "execution_count": 6,
   "metadata": {},
   "outputs": [
    {
     "name": "stdout",
     "output_type": "stream",
     "text": [
      "Смещенная оценка дисперсии: 950.11\n",
      "Проверка = 950.11\n"
     ]
    }
   ],
   "source": [
    "# смещенная оценка дисперсии\n",
    "print(f\"Смещенная оценка дисперсии: {grad_variance}\")\n",
    "print(f\"Проверка = {grad_.var(ddof=0)}\")"
   ]
  },
  {
   "cell_type": "code",
   "execution_count": 7,
   "metadata": {},
   "outputs": [
    {
     "name": "stdout",
     "output_type": "stream",
     "text": [
      "Несмещенная оценка дисперсии: 1000.1157894736842\n",
      "Проверка = 1000.1157894736842\n"
     ]
    }
   ],
   "source": [
    "# Несмещенная оценка дисперсии\n",
    "grad_variance2 = tmp/(grad_.size-1)\n",
    "print(f\"Несмещенная оценка дисперсии: {grad_variance2}\")\n",
    "print(f\"Проверка = {grad_.var(ddof=1)}\")"
   ]
  },
  {
   "cell_type": "markdown",
   "metadata": {},
   "source": [
    "### Задача 2\n",
    "В первом ящике находится 8 мячей, из которых 5 - белые. Во втором ящике - 12 мячей, из которых 5 белых. Из первого ящика вытаскивают случайным образом два мяча, из второго - 4. Какова вероятность того, что 3 мяча белые?"
   ]
  },
  {
   "cell_type": "markdown",
   "metadata": {},
   "source": [
    "Общее кол-во исходов для 2 ящиков:"
   ]
  },
  {
   "cell_type": "code",
   "execution_count": 8,
   "metadata": {},
   "outputs": [
    {
     "name": "stdout",
     "output_type": "stream",
     "text": [
      "Вероятность того, что 3 мяча белые: 0.3686868686868687\n"
     ]
    }
   ],
   "source": [
    "n_w = 5\n",
    "\n",
    "c_1_all = combinations(8, 2)\n",
    "c_2_all = combinations(12, 4)\n",
    "\n",
    "# 2 белых из 1 корзины и 1 белый из 2 корзины\n",
    "p_01 = (combinations(n_w, 2)/c_1_all) * (combinations(n_w, 1)*combinations(7, 3)/c_2_all)\n",
    "# 1 белый из 1 корзины и 2 белых из 2 корзины\n",
    "p_02 = (combinations(n_w, 1) * combinations(3, 1) /c_1_all) * (combinations(n_w, 2)*combinations(7, 2)/c_2_all)\n",
    "#3 белых из 2 корзины\n",
    "p_03 = (combinations(3, 2) /c_1_all) * (combinations(n_w, 3)*combinations(7, 1)/c_2_all)\n",
    "\n",
    "P = p_01 + p_02 + p_03\n",
    "print(f\"Вероятность того, что 3 мяча белые: {P}\")\n"
   ]
  },
  {
   "cell_type": "markdown",
   "metadata": {},
   "source": [
    "### Задача 3\n",
    "На соревновании по биатлону один из трех спортсменов стреляет и попадает в мишень. Вероятность попадания для первого спортсмена равна 0.9, для второго — 0.8, для третьего — 0.6. Найти вероятность того, что выстрел произведен: a). первым спортсменом б). вторым спортсменом в). третьим спортсменом."
   ]
  },
  {
   "cell_type": "markdown",
   "metadata": {},
   "source": [
    "Задача решается с помощью формулы Байеса:"
   ]
  },
  {
   "cell_type": "markdown",
   "metadata": {},
   "source": [
    "$$P(B\\:|\\:A) = \\frac{P(B) \\cdot P(A\\:|\\:B)}{P(A)}$$"
   ]
  },
  {
   "cell_type": "markdown",
   "metadata": {},
   "source": [
    "$$P(A\\:|\\:B_1) = 0.9$$\n",
    "\n",
    "$$P(A\\:|\\:B_2) = 0.8$$\n",
    "\n",
    "$$P(A\\:|\\:B_3) = 0.6$$"
   ]
  },
  {
   "cell_type": "code",
   "execution_count": 9,
   "metadata": {},
   "outputs": [],
   "source": [
    "P_AB1 = 0.9\n",
    "P_AB2 = 0.8\n",
    "P_AB3 = 0.6\n"
   ]
  },
  {
   "cell_type": "markdown",
   "metadata": {},
   "source": [
    "Найдем сначало значение полной вероятности:"
   ]
  },
  {
   "cell_type": "code",
   "execution_count": 10,
   "metadata": {},
   "outputs": [
    {
     "data": {
      "text/plain": [
       "0.7666666666666667"
      ]
     },
     "execution_count": 10,
     "metadata": {},
     "output_type": "execute_result"
    }
   ],
   "source": [
    "P_A = (P_AB1 + P_AB2 + P_AB3)/3\n",
    "P_A"
   ]
  },
  {
   "cell_type": "code",
   "execution_count": 11,
   "metadata": {},
   "outputs": [],
   "source": [
    "PB1_A = P_AB1/3/P_A\n",
    "PB2_A = P_AB2/3/P_A\n",
    "PB3_A = P_AB3/3/P_A"
   ]
  },
  {
   "cell_type": "code",
   "execution_count": 12,
   "metadata": {},
   "outputs": [
    {
     "name": "stdout",
     "output_type": "stream",
     "text": [
      " вероятность того, что выстрел произведен 1 спортсменом: 0.3913043478260869\n",
      " вероятность того, что выстрел произведен 2 спортсменом: 0.34782608695652173\n",
      " вероятность того, что выстрел произведен 3 спортсменом: 0.26086956521739124\n"
     ]
    }
   ],
   "source": [
    "print(f\" вероятность того, что выстрел произведен 1 спортсменом: {PB1_A}\")\n",
    "print(f\" вероятность того, что выстрел произведен 2 спортсменом: {PB2_A}\")\n",
    "print(f\" вероятность того, что выстрел произведен 3 спортсменом: {PB3_A}\")"
   ]
  },
  {
   "cell_type": "markdown",
   "metadata": {},
   "source": [
    "### Задача 4\n",
    "В университет на факультеты A и B поступило равное количество студентов, а на факультет C студентов поступило столько же, сколько на A и B вместе. Вероятность того, что студент факультета A сдаст первую сессию, равна 0.8. Для студента факультета B эта вероятность равна 0.7, а для студента факультета C - 0.9. Студент сдал первую сессию. Какова вероятность, что он учится: a). на факультете A б). на факультете B в). на факультете C?\n"
   ]
  },
  {
   "cell_type": "markdown",
   "metadata": {},
   "source": [
    "Задача решается с помощью формулы Байеса:"
   ]
  },
  {
   "cell_type": "markdown",
   "metadata": {},
   "source": [
    "Вероятности P_B для факультетов равны:\n"
   ]
  },
  {
   "cell_type": "code",
   "execution_count": 13,
   "metadata": {},
   "outputs": [],
   "source": [
    "P_B_a = 1/4\n",
    "P_B_b = 1/4\n",
    "P_B_c = 1/2"
   ]
  },
  {
   "cell_type": "markdown",
   "metadata": {},
   "source": [
    "Вероятности P_A в зависимости от факультета:"
   ]
  },
  {
   "cell_type": "code",
   "execution_count": 14,
   "metadata": {},
   "outputs": [],
   "source": [
    "P_AB_a = 0.8\n",
    "P_AB_b = 0.7\n",
    "P_AB_c = 0.9"
   ]
  },
  {
   "cell_type": "markdown",
   "metadata": {},
   "source": [
    "Расчитаем значение полной вероятности:"
   ]
  },
  {
   "cell_type": "code",
   "execution_count": 15,
   "metadata": {},
   "outputs": [
    {
     "data": {
      "text/plain": [
       "0.825"
      ]
     },
     "execution_count": 15,
     "metadata": {},
     "output_type": "execute_result"
    }
   ],
   "source": [
    "P_A = P_B_a*P_AB_a + P_B_b*P_AB_b + P_B_c*P_AB_c\n",
    "P_A"
   ]
  },
  {
   "cell_type": "code",
   "execution_count": 16,
   "metadata": {},
   "outputs": [],
   "source": [
    "PB1_A = P_AB_a*P_B_a/P_A\n",
    "PB2_A = P_AB_b*P_B_b/P_A\n",
    "PB3_A = P_AB_c*P_B_c/P_A"
   ]
  },
  {
   "cell_type": "code",
   "execution_count": 17,
   "metadata": {},
   "outputs": [
    {
     "name": "stdout",
     "output_type": "stream",
     "text": [
      " вероятность того, что студент учится: на факультете A: 0.24242424242424246\n",
      " вероятность того, что студент учится: на факультете B: 0.21212121212121213\n",
      " вероятность того, что студент учится: на факультете C: 0.5454545454545455\n"
     ]
    }
   ],
   "source": [
    "print(f\" вероятность того, что студент учится: на факультете A: {PB1_A}\")\n",
    "print(f\" вероятность того, что студент учится: на факультете B: {PB2_A}\")\n",
    "print(f\" вероятность того, что студент учится: на факультете C: {PB3_A}\")"
   ]
  },
  {
   "cell_type": "markdown",
   "metadata": {},
   "source": [
    "### Задача 5\n",
    "\n",
    "Устройство состоит из трех деталей. Для первой детали вероятность выйти из строя в первый месяц равна 0.1, для второй - 0.2, для третьей - 0.25. Какова вероятность того, что в первый месяц выйдут из строя: а). все детали б). только две детали в). хотя бы одна деталь г). от одной до двух деталей?\n"
   ]
  },
  {
   "cell_type": "code",
   "execution_count": 18,
   "metadata": {},
   "outputs": [
    {
     "name": "stdout",
     "output_type": "stream",
     "text": [
      " вероятность того, что в первый месяц выйдут из строя все детали: 0.005000000000000001\n",
      " вероятность того, что в первый месяц выйдет из строя хотя бы одна деталь: 0.55\n",
      " вероятность того, что в первый месяц выйдут из строя 2 детали: 0.095\n",
      " вероятность того, что в первый месяц выйдут из строя 1 или 2 детали: 0.545\n"
     ]
    }
   ],
   "source": [
    "# рассматриваем ситуацию как независимый набор 3 деталей, тк условия именно такие\n",
    "p1 = 0.1\n",
    "p2 = 0.2\n",
    "p3 = 0.25\n",
    "\n",
    "# так как мы рассматриваем детали а не устройство то:\n",
    "# все детали - произведение вероятностей\n",
    "P_all = p1*p2*p3\n",
    "\n",
    "# тк события независимы то\n",
    "# хотя бы одна деталь - сумма вероятностей\n",
    "P_only_1 = p1+p2+p3\n",
    "\n",
    "# только 2 детали - сумма попарных произведений\n",
    "P_2 = p1*p2 + p2*p3 + p1*p3\n",
    "\n",
    "# одна или 2 детали = вероятность что вообще что то сломается - вероятность что сломается все\n",
    "P_2_or_1 = P_only_1 - P_all\n",
    "\n",
    "print(f\" вероятность того, что в первый месяц выйдут из строя все детали: {P_all}\")\n",
    "print(f\" вероятность того, что в первый месяц выйдет из строя хотя бы одна деталь: {P_only_1}\")\n",
    "print(f\" вероятность того, что в первый месяц выйдут из строя 2 детали: {P_2}\")\n",
    "print(f\" вероятность того, что в первый месяц выйдут из строя 1 или 2 детали: {P_2_or_1}\")\n"
   ]
  },
  {
   "cell_type": "code",
   "execution_count": null,
   "metadata": {},
   "outputs": [],
   "source": []
  }
 ],
 "metadata": {
  "kernelspec": {
   "display_name": "Python 3",
   "language": "python",
   "name": "python3"
  },
  "language_info": {
   "codemirror_mode": {
    "name": "ipython",
    "version": 3
   },
   "file_extension": ".py",
   "mimetype": "text/x-python",
   "name": "python",
   "nbconvert_exporter": "python",
   "pygments_lexer": "ipython3",
   "version": "3.7.1"
  }
 },
 "nbformat": 4,
 "nbformat_minor": 2
}
