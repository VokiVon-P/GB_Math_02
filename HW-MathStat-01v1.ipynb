{
 "cells": [
  {
   "cell_type": "code",
   "execution_count": 1,
   "metadata": {},
   "outputs": [],
   "source": [
    "import numpy as np\n",
    "from math import factorial\n",
    "\n",
    "# сачетание \n",
    "def combinations(n:int, k:int)->int:\n",
    "    return int(factorial(n) / (factorial(k) * factorial(n - k)))\n",
    "\n",
    "# размещение - порядок важен\n",
    "def arrangements(n:int, k:int)->int:\n",
    "    return int(factorial(n) / factorial(n - k))\n",
    "\n",
    "# перестановка - комбинаторика\n",
    "def permutations(n:int)->int:\n",
    "    return int(factorial(n))\n"
   ]
  },
  {
   "cell_type": "markdown",
   "metadata": {},
   "source": [
    " ### Задание 1"
   ]
  },
  {
   "cell_type": "markdown",
   "metadata": {},
   "source": [
    " Из колоды в 52 карты извлекаются случайным образом 4 карты.\n",
    " a) Найти вероятность того, что все карты – крести.\n",
    " б) Найти вероятность, что среди 4-х карт окажется хотя бы один туз."
   ]
  },
  {
   "cell_type": "markdown",
   "metadata": {},
   "source": [
    " ##### Задание 1 - общая часть:"
   ]
  },
  {
   "cell_type": "code",
   "execution_count": 2,
   "metadata": {},
   "outputs": [
    {
     "name": "stdout",
     "output_type": "stream",
     "text": [
      "Общее количество возможный комбинаций С1(all) = 270725\n"
     ]
    }
   ],
   "source": [
    "# Общее пространство возможных событий\n",
    "c1_all = combinations(52, 4)\n",
    "print(f\"Общее количество возможный комбинаций С1(all) = {c1_all}\")"
   ]
  },
  {
   "cell_type": "markdown",
   "metadata": {},
   "source": [
    " ##### Задание 1 - часть а)\n",
    " Найти вероятность того, что все карты – крести."
   ]
  },
  {
   "cell_type": "code",
   "execution_count": 3,
   "metadata": {},
   "outputs": [
    {
     "name": "stdout",
     "output_type": "stream",
     "text": [
      "Вероятность P(a) = 0.0026410564225690276\n"
     ]
    }
   ],
   "source": [
    "# Количество карт одной масти в колоде из 52/4 = 13 карт\n",
    "c1_tref = combinations(13, 4)\n",
    "p1_a = c1_tref/c1_all\n",
    "print(f\"Вероятность P(a) = {p1_a}\")\n"
   ]
  },
  {
   "cell_type": "markdown",
   "metadata": {},
   "source": [
    " ##### Задание 1 - часть b)\n",
    " Найти вероятность, что среди 4-х карт окажется хотя бы один туз."
   ]
  },
  {
   "cell_type": "code",
   "execution_count": 4,
   "metadata": {},
   "outputs": [
    {
     "name": "stdout",
     "output_type": "stream",
     "text": [
      "Комбинаций 1 туз  = 69184\n",
      "Комбинаций 2 туза = 6768\n",
      "Комбинаций 3 туза = 192\n",
      "Комбинаций 4 туза = 1\n",
      "Вероятность, что среди 4-х карт окажется хотя бы один туз P(b) = 0.2812632745405855\n"
     ]
    }
   ],
   "source": [
    "# Данная задача будет состоять из комбинации задач\n",
    "# 1) - 1 туз и 3 прочие\n",
    "# 2) - 2 туза и 2 прочие\n",
    "# 3) - 3 туза и 1 прочая\n",
    "# 4) - 4 туза\n",
    "\n",
    "# считаем комбинации тузов из 4 карт и прочих из 52-4 = 48\n",
    "c1_b1 = combinations(4, 1)*combinations(48, 3)\n",
    "print(f\"Комбинаций 1 туз  = {c1_b1}\")\n",
    "c1_b2 = combinations(4, 2)*combinations(48, 2)\n",
    "print(f\"Комбинаций 2 туза = {c1_b2}\")\n",
    "c1_b3 = combinations(4, 3)*combinations(48, 1)\n",
    "print(f\"Комбинаций 3 туза = {c1_b3}\")\n",
    "c1_b4 = combinations(4, 4)*combinations(48, 0)\n",
    "print(f\"Комбинаций 4 туза = {c1_b4}\")\n",
    "# слоажим комбинации и вычислим вероятность\n",
    "p1_b = (c1_b1 + c1_b2 + c1_b3 + c1_b4)/c1_all\n",
    "print(f\"Вероятность, что среди 4-х карт окажется хотя бы один туз P(b) = {p1_b}\")\n"
   ]
  },
  {
   "cell_type": "markdown",
   "metadata": {},
   "source": [
    " #### Задание 2\n",
    " На входной двери подъезда установлен кодовый замок, содержащий десять кнопок с цифрами от 0 до 9. Код содержит три цифры, которые нужно нажать одновременно. Какова вероятность того, что человек, не знающий код, откроет дверь с первой попытки?"
   ]
  },
  {
   "cell_type": "markdown",
   "metadata": {},
   "source": [
    " Задача 2 - на сочетание\n",
    " Общее пространство возможных событий"
   ]
  },
  {
   "cell_type": "code",
   "execution_count": 5,
   "metadata": {},
   "outputs": [
    {
     "name": "stdout",
     "output_type": "stream",
     "text": [
      "Кол-во комбинаций С = 120\n"
     ]
    }
   ],
   "source": [
    "# цифр 10 выбираем любые 3\n",
    "c2_all = combinations(10, 3)\n",
    "print(f\"Кол-во комбинаций С = {c2_all}\")\n"
   ]
  },
  {
   "cell_type": "markdown",
   "metadata": {},
   "source": [
    " Попытка одна. Следовательно:"
   ]
  },
  {
   "cell_type": "code",
   "execution_count": 6,
   "metadata": {},
   "outputs": [
    {
     "name": "stdout",
     "output_type": "stream",
     "text": [
      "Вероятность P = 0.008333333333333333\n"
     ]
    }
   ],
   "source": [
    "p2 = 1/c2_all\n",
    "print(f\"Вероятность P = {p2}\")\n"
   ]
  },
  {
   "cell_type": "markdown",
   "metadata": {},
   "source": [
    " ### Задание 3\n",
    " В ящике имеется 15 деталей, из которых 9 окрашены.\n",
    " Рабочий случайным образом извлекает 3 детали.\n",
    " Какова вероятность того, что все извлеченные детали окрашены?"
   ]
  },
  {
   "cell_type": "markdown",
   "metadata": {},
   "source": [
    "Можно решить 2 способами:\n",
    "1 - через сочетания\n",
    "2 - через зависимые события"
   ]
  },
  {
   "cell_type": "code",
   "execution_count": 7,
   "metadata": {},
   "outputs": [
    {
     "name": "stdout",
     "output_type": "stream",
     "text": [
      "Общее количество возможный комбинаций С3(all) = 455\n",
      "Вероятность через сочетания P3_fill = 0.18461538461538463\n",
      "Вероятность зависимых событий P3_link = 0.18461538461538457\n"
     ]
    }
   ],
   "source": [
    "# Решение через сочетание\n",
    "# Общее пространство возможных событий\n",
    "c3_all = combinations(15, 3)\n",
    "print(f\"Общее количество возможный комбинаций С3(all) = {c3_all}\")\n",
    "c3_fill = combinations(9, 3)\n",
    "p3_fill = c3_fill/c3_all\n",
    "print(f\"Вероятность через сочетания P3_fill = {p3_fill}\")\n",
    "\n",
    "# Решение с помощью зависимых событий\n",
    "p3_a = 9/15\n",
    "p3_b = 8/14\n",
    "p3_c = 7/13\n",
    "p3_depend  = p3_a*p3_b*p3_c\n",
    "print(f\"Вероятность зависимых событий P3_link = {p3_depend}\")\n"
   ]
  },
  {
   "cell_type": "markdown",
   "metadata": {},
   "source": [
    " ### Задание 4\n",
    " В лотерее 100 билетов.\n",
    " Из них 2 выигрышных.\n",
    " Какова вероятность того, что 2 приобретенных билета окажутся выигрышными?"
   ]
  },
  {
   "cell_type": "code",
   "execution_count": 8,
   "metadata": {},
   "outputs": [
    {
     "name": "stdout",
     "output_type": "stream",
     "text": [
      "Общее количество возможный комбинаций С4(all) = 4950\n",
      "Вероятность того, что 2 приобретенных билета окажутся выигрышными P4 = 0.00020202020202020202\n"
     ]
    }
   ],
   "source": [
    "c4_all = combinations(100, 2)\n",
    "print(f\"Общее количество возможный комбинаций С4(all) = {c4_all}\")\n",
    "# комбинаций 2 билетов и 2 выигрышных = 1\n",
    "# следовательно:\n",
    "p4 = 1/c4_all\n",
    "print(f\"Вероятность того, что 2 приобретенных билета окажутся выигрышными P4 = {p4}\")\n",
    "\n"
   ]
  },
  {
   "cell_type": "code",
   "execution_count": null,
   "metadata": {},
   "outputs": [],
   "source": []
  }
 ],
 "metadata": {
  "file_extension": ".py",
  "kernelspec": {
   "display_name": "Python 3",
   "language": "python",
   "name": "python3"
  },
  "language_info": {
   "codemirror_mode": {
    "name": "ipython",
    "version": 3
   },
   "file_extension": ".py",
   "mimetype": "text/x-python",
   "name": "python",
   "nbconvert_exporter": "python",
   "pygments_lexer": "ipython3",
   "version": "3.7.1"
  },
  "mimetype": "text/x-python",
  "name": "python",
  "npconvert_exporter": "python",
  "pygments_lexer": "ipython3",
  "version": 3
 },
 "nbformat": 4,
 "nbformat_minor": 2
}
