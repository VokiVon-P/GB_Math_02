{
 "cells": [
  {
   "cell_type": "code",
   "execution_count": 1,
   "metadata": {},
   "outputs": [],
   "source": [
    "import numpy as np\n",
    "from scipy.stats import norm"
   ]
  },
  {
   "cell_type": "code",
   "execution_count": null,
   "metadata": {},
   "outputs": [],
   "source": []
  },
  {
   "cell_type": "markdown",
   "metadata": {},
   "source": [
    "### Задача 1\n",
    "Известно, что генеральная совокупность распределена нормально\n",
    "со средним квадратическим отклонением, равным 16.\n",
    "Найти доверительный интервал для оценки математического ожидания a с надежностью 0.95,\n",
    "если выборочная средняя M = 80, а объем выборки n = 256."
   ]
  },
  {
   "cell_type": "code",
   "execution_count": 2,
   "metadata": {},
   "outputs": [
    {
     "name": "stdout",
     "output_type": "stream",
     "text": [
      "Половина уровня значимости = 0.025000000000000022\n",
      " Z(a/2)= -1.959963984540054\n"
     ]
    }
   ],
   "source": [
    "sigma = 16\n",
    "M = 80\n",
    "n= 256\n",
    "a = 1-0.95\n",
    "# тк симмертричная то\n",
    "a_2 = a/2\n",
    "print(f\"Половина уровня значимости = {a_2}\")\n",
    "z_2 = norm.ppf(a_2)\n",
    "print(f\" Z(a/2)= {z_2}\")"
   ]
  },
  {
   "cell_type": "code",
   "execution_count": 3,
   "metadata": {},
   "outputs": [
    {
     "name": "stdout",
     "output_type": "stream",
     "text": [
      " Доверительный диапазон = [78.04003601545995; 81.95996398454005]\n"
     ]
    }
   ],
   "source": [
    "delta = (z_2 * sigma / np.sqrt(n))\n",
    "left = M + delta \n",
    "right = M - delta\n",
    "print(f\" Доверительный диапазон = [{left}; {right}]\")"
   ]
  },
  {
   "cell_type": "markdown",
   "metadata": {},
   "source": [
    "### Задача 2\n",
    "В результате 10 независимых измерений некоторой величины X, выполненных с одинаковой точностью,\n",
    "получены опытные данные:\n",
    "6.9, 6.1, 6.2, 6.8, 7.5, 6.3, 6.4, 6.9, 6.7, 6.1\n",
    "Предполагая, что результаты измерений подчинены нормальному закону распределения вероятностей,\n",
    "оценить истинное значение величины X при помощи доверительного интервала, покрывающего это\n",
    "значение с доверительной вероятностью 0,95."
   ]
  },
  {
   "cell_type": "code",
   "execution_count": 4,
   "metadata": {},
   "outputs": [],
   "source": [
    "arr_ = np.array([6.9, 6.1, 6.2, 6.8, 7.5, 6.3, 6.4, 6.9, 6.7, 6.1])\n",
    "n = arr_.size\n",
    "M = arr_.mean()\n",
    "sigma = arr_.std()"
   ]
  },
  {
   "cell_type": "code",
   "execution_count": 5,
   "metadata": {},
   "outputs": [
    {
     "name": "stdout",
     "output_type": "stream",
     "text": [
      "Половина уровня значимости = 0.025000000000000022\n",
      " Z(a/2)= -1.959963984540054\n"
     ]
    }
   ],
   "source": [
    "a = 1-0.95\n",
    "# тк симмертричная то\n",
    "a_2 = a/2\n",
    "print(f\"Половина уровня значимости = {a_2}\")\n",
    "z_2 = norm.ppf(a_2)\n",
    "print(f\" Z(a/2)= {z_2}\")"
   ]
  },
  {
   "cell_type": "code",
   "execution_count": 6,
   "metadata": {},
   "outputs": [
    {
     "name": "stdout",
     "output_type": "stream",
     "text": [
      " Доверительный диапазон истинного значения X= [6.324933438867715; 6.855066561132286]\n"
     ]
    }
   ],
   "source": [
    "delta = (z_2 * sigma / np.sqrt(n))\n",
    "left = M + delta \n",
    "right = M - delta\n",
    "print(f\" Доверительный диапазон истинного значения X= [{left}; {right}]\")"
   ]
  },
  {
   "cell_type": "markdown",
   "metadata": {},
   "source": [
    "### Задача 3\n",
    "Утверждается, что шарики для подшипников, изготовленные автоматическим станком, имеют средний диаметр 17 мм.\n",
    "Используя односторонний критерий с α=0,05, проверить эту гипотезу, если в выборке из n=100 шариков средний диаметр\n",
    "оказался равным 17.5 мм, а дисперсия известна и равна 4 мм."
   ]
  },
  {
   "cell_type": "code",
   "execution_count": 7,
   "metadata": {},
   "outputs": [
    {
     "name": "stdout",
     "output_type": "stream",
     "text": [
      " Гипотеза не верна тк Z1 = 2.5 >=  Z0 = 1.6448536269514722\n"
     ]
    }
   ],
   "source": [
    "M0 = 17\n",
    "M1 = 17.5\n",
    "n = 100\n",
    "a = 0.05\n",
    "sigma = np.sqrt(4)\n",
    "temp = sigma/np.sqrt(n)\n",
    "Z1 = (M1-M0)/temp\n",
    "Z0 = norm.ppf(1-a)\n",
    "if Z1 >= Z0:\n",
    "    print(f\" Гипотеза не верна тк Z1 = {Z1} >=  Z0 = {Z0}\")\n",
    "else:\n",
    "    print(f\" Гипотеза верна тк Z1 = {Z1} < Z0 = {Z0}\")\n",
    "    "
   ]
  },
  {
   "cell_type": "markdown",
   "metadata": {},
   "source": [
    "### Задача 4\n",
    "Продавец утверждает, что средний вес пачки печенья составляет 200 г.\n",
    "Из партии извлечена выборка из 10 пачек. Вес каждой пачки составляет:\n",
    "202, 203, 199, 197, 195, 201, 200, 204, 194, 190.\n",
    "Известно, что их веса распределены нормально.\n",
    "Верно ли утверждение продавца, если учитывать, что доверительная вероятность равна 99%?"
   ]
  },
  {
   "cell_type": "code",
   "execution_count": 8,
   "metadata": {},
   "outputs": [],
   "source": [
    "arr_ = np.array([202, 203, 199, 197, 195, 201, 200, 204, 194, 190])\n",
    "n = arr_.size\n",
    "M = arr_.mean()\n",
    "sigma = arr_.std()"
   ]
  },
  {
   "cell_type": "code",
   "execution_count": 9,
   "metadata": {},
   "outputs": [
    {
     "name": "stdout",
     "output_type": "stream",
     "text": [
      "Половина уровня значимости = 0.0050000000000000044\n",
      " Z(a/2)= -2.5758293035489004\n"
     ]
    }
   ],
   "source": [
    "a = 1-0.99\n",
    "# тк симмертричная то\n",
    "a_2 = a/2\n",
    "print(f\"Половина уровня значимости = {a_2}\")\n",
    "z_2 = norm.ppf(a_2)\n",
    "print(f\" Z(a/2)= {z_2}\")"
   ]
  },
  {
   "cell_type": "code",
   "execution_count": 10,
   "metadata": {},
   "outputs": [
    {
     "name": "stdout",
     "output_type": "stream",
     "text": [
      " Доверительный диапазон веса пачки = [195.05859179508985; 201.94140820491015]\n"
     ]
    }
   ],
   "source": [
    "delta = (z_2 * sigma / np.sqrt(n))\n",
    "left = M + delta \n",
    "right = M - delta\n",
    "print(f\" Доверительный диапазон веса пачки = [{left}; {right}]\")"
   ]
  },
  {
   "cell_type": "code",
   "execution_count": 11,
   "metadata": {},
   "outputs": [
    {
     "name": "stdout",
     "output_type": "stream",
     "text": [
      "Средний вес пачки 200 г попадает в доверительный диапазон и следовательно утверждение верно!\n"
     ]
    }
   ],
   "source": [
    "print(f\"Средний вес пачки 200 г попадает в доверительный диапазон и следовательно утверждение верно!\")"
   ]
  },
  {
   "cell_type": "code",
   "execution_count": null,
   "metadata": {},
   "outputs": [],
   "source": []
  }
 ],
 "metadata": {
  "kernelspec": {
   "display_name": "Python 3",
   "language": "python",
   "name": "python3"
  },
  "language_info": {
   "codemirror_mode": {
    "name": "ipython",
    "version": 3
   },
   "file_extension": ".py",
   "mimetype": "text/x-python",
   "name": "python",
   "nbconvert_exporter": "python",
   "pygments_lexer": "ipython3",
   "version": "3.7.1"
  }
 },
 "nbformat": 4,
 "nbformat_minor": 2
}
